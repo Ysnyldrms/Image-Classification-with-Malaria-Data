{
 "cells": [
  {
   "cell_type": "code",
   "execution_count": 1,
   "metadata": {
    "_cell_guid": "b1076dfc-b9ad-4769-8c92-a6c4dae69d19",
    "_uuid": "8f2839f25d086af736a60e9eeb907d3b93b6e0e5",
    "execution": {
     "iopub.execute_input": "2022-11-03T08:21:33.284855Z",
     "iopub.status.busy": "2022-11-03T08:21:33.284405Z",
     "iopub.status.idle": "2022-11-03T08:22:00.051559Z",
     "shell.execute_reply": "2022-11-03T08:22:00.050479Z",
     "shell.execute_reply.started": "2022-11-03T08:21:33.284824Z"
    }
   },
   "outputs": [],
   "source": [
    "# This Python 3 environment comes with many helpful analytics libraries installed\n",
    "# It is defined by the kaggle/python Docker image: https://github.com/kaggle/docker-python\n",
    "# For example, here's several helpful packages to load\n",
    "\n",
    "import numpy as np # linear algebra\n",
    "import pandas as pd # data processing, CSV file I/O (e.g. pd.read_csv)\n",
    "\n",
    "# Input data files are available in the read-only \"../input/\" directory\n",
    "# For example, running this (by clicking run or pressing Shift+Enter) will list all files under the input directory\n",
    "\n",
    "import os\n",
    "for dirname, _, filenames in os.walk('/kaggle/input'):\n",
    "    for filename in filenames:\n",
    "        print(os.path.join(dirname, filename))\n",
    "\n",
    "# You can write up to 20GB to the current directory (/kaggle/working/) that gets preserved as output when you create a version using \"Save & Run All\" \n",
    "# You can also write temporary files to /kaggle/temp/, but they won't be saved outside of the current session"
   ]
  },
  {
   "cell_type": "code",
   "execution_count": 38,
   "metadata": {
    "execution": {
     "iopub.execute_input": "2022-11-03T08:22:00.054112Z",
     "iopub.status.busy": "2022-11-03T08:22:00.053761Z",
     "iopub.status.idle": "2022-11-03T08:22:00.058987Z",
     "shell.execute_reply": "2022-11-03T08:22:00.057998Z",
     "shell.execute_reply.started": "2022-11-03T08:22:00.054078Z"
    }
   },
   "outputs": [],
   "source": [
    "from PIL import Image"
   ]
  },
  {
   "cell_type": "code",
   "execution_count": 39,
   "metadata": {
    "execution": {
     "iopub.execute_input": "2022-11-03T08:22:00.061818Z",
     "iopub.status.busy": "2022-11-03T08:22:00.060894Z",
     "iopub.status.idle": "2022-11-03T08:22:00.076613Z",
     "shell.execute_reply": "2022-11-03T08:22:00.074948Z",
     "shell.execute_reply.started": "2022-11-03T08:22:00.061755Z"
    }
   },
   "outputs": [],
   "source": [
    "image1 = Image.open(\"/kaggle/input/cell-images-for-detecting-malaria/cell_images/Uninfected/C222ThinF_IMG_20151115_150728_cell_5.png\")\n",
    "image2 = Image.open(\"/kaggle/input/cell-images-for-detecting-malaria/cell_images/cell_images/Parasitized/C62P23N_ThinF_IMG_20150818_132811_cell_191.png\")\n",
    "image3 = Image.open(\"/kaggle/input/cell-images-for-detecting-malaria/cell_images/cell_images/Parasitized/C51AP12thinF_IMG_20150724_154243_cell_129.png\")"
   ]
  },
  {
   "cell_type": "markdown",
   "metadata": {},
   "source": [
    "### An Example cell image"
   ]
  },
  {
   "cell_type": "code",
   "execution_count": 40,
   "metadata": {
    "execution": {
     "iopub.execute_input": "2022-11-03T08:22:00.079888Z",
     "iopub.status.busy": "2022-11-03T08:22:00.079226Z",
     "iopub.status.idle": "2022-11-03T08:22:00.095092Z",
     "shell.execute_reply": "2022-11-03T08:22:00.094165Z",
     "shell.execute_reply.started": "2022-11-03T08:22:00.079853Z"
    }
   },
   "outputs": [
    {
     "data": {
      "image/png": "[encoded data removed]",
      "text/plain": [
       "<PIL.PngImagePlugin.PngImageFile image mode=RGB size=127x142>"
      ]
     },
     "execution_count": 40,
     "metadata": {},
     "output_type": "execute_result"
    }
   ],
   "source": [
    "image1"
   ]
  },
  {
   "cell_type": "code",
   "execution_count": 41,
   "metadata": {
    "execution": {
     "iopub.execute_input": "2022-11-03T08:22:00.097375Z",
     "iopub.status.busy": "2022-11-03T08:22:00.096634Z",
     "iopub.status.idle": "2022-11-03T08:22:00.104483Z",
     "shell.execute_reply": "2022-11-03T08:22:00.103661Z",
     "shell.execute_reply.started": "2022-11-03T08:22:00.097329Z"
    }
   },
   "outputs": [
    {
     "data": {
      "text/plain": [
       "((127, 142), (127, 118), (157, 145))"
      ]
     },
     "execution_count": 41,
     "metadata": {},
     "output_type": "execute_result"
    }
   ],
   "source": [
    "image1.size, image2.size, image3.size          # We have different size. then we have to rescale."
   ]
  },
  {
   "cell_type": "code",
   "execution_count": 42,
   "metadata": {
    "execution": {
     "iopub.execute_input": "2022-11-03T08:22:00.106402Z",
     "iopub.status.busy": "2022-11-03T08:22:00.105748Z",
     "iopub.status.idle": "2022-11-03T08:22:00.113189Z",
     "shell.execute_reply": "2022-11-03T08:22:00.111978Z",
     "shell.execute_reply.started": "2022-11-03T08:22:00.106370Z"
    }
   },
   "outputs": [],
   "source": [
    "from tensorflow.keras.preprocessing.image import ImageDataGenerator"
   ]
  },
  {
   "cell_type": "code",
   "execution_count": 43,
   "metadata": {
    "execution": {
     "iopub.execute_input": "2022-11-03T08:22:00.115532Z",
     "iopub.status.busy": "2022-11-03T08:22:00.114499Z",
     "iopub.status.idle": "2022-11-03T08:22:00.124223Z",
     "shell.execute_reply": "2022-11-03T08:22:00.123039Z",
     "shell.execute_reply.started": "2022-11-03T08:22:00.115497Z"
    }
   },
   "outputs": [],
   "source": [
    "data = ImageDataGenerator(rescale = 1/255.0, validation_split = 0.2)"
   ]
  },
  {
   "cell_type": "code",
   "execution_count": 44,
   "metadata": {
    "execution": {
     "iopub.execute_input": "2022-11-03T08:22:00.126394Z",
     "iopub.status.busy": "2022-11-03T08:22:00.125446Z",
     "iopub.status.idle": "2022-11-03T08:22:00.799645Z",
     "shell.execute_reply": "2022-11-03T08:22:00.797653Z",
     "shell.execute_reply.started": "2022-11-03T08:22:00.126359Z"
    }
   },
   "outputs": [
    {
     "name": "stdout",
     "output_type": "stream",
     "text": [
      "Found 22048 images belonging to 2 classes.\n"
     ]
    }
   ],
   "source": [
    "trainData = data.flow_from_directory(directory = \"/kaggle/input/cell-images-for-detecting-malaria/cell_images/cell_images\",target_size=(128,128), class_mode=\"binary\", batch_size=16, subset=\"training\")"
   ]
  },
  {
   "cell_type": "code",
   "execution_count": 45,
   "metadata": {
    "execution": {
     "iopub.execute_input": "2022-11-03T08:22:00.801412Z",
     "iopub.status.busy": "2022-11-03T08:22:00.800917Z",
     "iopub.status.idle": "2022-11-03T08:22:01.225456Z",
     "shell.execute_reply": "2022-11-03T08:22:01.224328Z",
     "shell.execute_reply.started": "2022-11-03T08:22:00.801378Z"
    }
   },
   "outputs": [
    {
     "name": "stdout",
     "output_type": "stream",
     "text": [
      "Found 5510 images belonging to 2 classes.\n"
     ]
    }
   ],
   "source": [
    "validData = data.flow_from_directory(directory = \"/kaggle/input/cell-images-for-detecting-malaria/cell_images/cell_images\",target_size=(128,128), class_mode=\"binary\", batch_size=16, subset=\"validation\")"
   ]
  },
  {
   "cell_type": "markdown",
   "metadata": {},
   "source": [
    "### Creating CNN Model"
   ]
  },
  {
   "cell_type": "code",
   "execution_count": 46,
   "metadata": {
    "execution": {
     "iopub.execute_input": "2022-11-03T08:22:01.229586Z",
     "iopub.status.busy": "2022-11-03T08:22:01.229275Z",
     "iopub.status.idle": "2022-11-03T08:22:01.235296Z",
     "shell.execute_reply": "2022-11-03T08:22:01.234099Z",
     "shell.execute_reply.started": "2022-11-03T08:22:01.229557Z"
    }
   },
   "outputs": [],
   "source": [
    "from tensorflow.keras.models import Sequential \n",
    "from tensorflow.keras.layers import Dense, Conv2D, MaxPool2D, Flatten, BatchNormalization, MaxPooling2D, Dropout"
   ]
  },
  {
   "cell_type": "code",
   "execution_count": 68,
   "metadata": {
    "execution": {
     "iopub.execute_input": "2022-11-03T09:09:40.875562Z",
     "iopub.status.busy": "2022-11-03T09:09:40.875187Z",
     "iopub.status.idle": "2022-11-03T09:09:40.975028Z",
     "shell.execute_reply": "2022-11-03T09:09:40.973847Z",
     "shell.execute_reply.started": "2022-11-03T09:09:40.875528Z"
    }
   },
   "outputs": [],
   "source": [
    "model = Sequential()\n",
    "model.add(Conv2D(32, kernel_size = (3,3), activation =\"relu\", input_shape=(128,128,3)))\n",
    "model.add(Conv2D(32, kernel_size = (3,3), activation =\"relu\"))\n",
    "model.add(MaxPool2D(pool_size=(2,2)))\n",
    "model.add(BatchNormalization())\n",
    "model.add(Dropout(0.2))\n",
    "\n",
    "model.add(Flatten())\n",
    "model.add(Dense(32, activation =\"relu\"))\n",
    "model.add(Dropout(0.2))\n",
    "model.add(Dense(64, activation =\"relu\"))\n",
    "model.add(Dense(128, activation =\"relu\"))\n",
    "model.add(Dense(64, activation =\"relu\"))\n",
    "model.add(Dense(32, activation =\"relu\"))\n",
    "model.add(Dense(1, activation =\"sigmoid\"))"
   ]
  },
  {
   "cell_type": "code",
   "execution_count": 69,
   "metadata": {
    "execution": {
     "iopub.execute_input": "2022-11-03T09:09:43.504443Z",
     "iopub.status.busy": "2022-11-03T09:09:43.504072Z",
     "iopub.status.idle": "2022-11-03T09:09:43.514839Z",
     "shell.execute_reply": "2022-11-03T09:09:43.513807Z",
     "shell.execute_reply.started": "2022-11-03T09:09:43.504396Z"
    }
   },
   "outputs": [],
   "source": [
    "model.compile(loss = \"sparse_categorical_crossentropy\", optimizer = \"adam\", metrics = [\"accuracy\"])        # Adam Optimizer help us to find the largest and the smallest value by using gradient descend "
   ]
  },
  {
   "cell_type": "code",
   "execution_count": 70,
   "metadata": {
    "execution": {
     "iopub.execute_input": "2022-11-03T09:09:44.326060Z",
     "iopub.status.busy": "2022-11-03T09:09:44.325688Z",
     "iopub.status.idle": "2022-11-03T09:09:44.333161Z",
     "shell.execute_reply": "2022-11-03T09:09:44.332117Z",
     "shell.execute_reply.started": "2022-11-03T09:09:44.326029Z"
    }
   },
   "outputs": [
    {
     "name": "stdout",
     "output_type": "stream",
     "text": [
      "Model: \"sequential_6\"\n",
      "_________________________________________________________________\n",
      "Layer (type)                 Output Shape              Param #   \n",
      "=================================================================\n",
      "conv2d_21 (Conv2D)           (None, 126, 126, 32)      896       \n",
      "_________________________________________________________________\n",
      "conv2d_22 (Conv2D)           (None, 124, 124, 32)      9248      \n",
      "_________________________________________________________________\n",
      "max_pooling2d_7 (MaxPooling2 (None, 62, 62, 32)        0         \n",
      "_________________________________________________________________\n",
      "batch_normalization_20 (Batc (None, 62, 62, 32)        128       \n",
      "_________________________________________________________________\n",
      "dropout_19 (Dropout)         (None, 62, 62, 32)        0         \n",
      "_________________________________________________________________\n",
      "flatten_6 (Flatten)          (None, 123008)            0         \n",
      "_________________________________________________________________\n",
      "dense_32 (Dense)             (None, 32)                3936288   \n",
      "_________________________________________________________________\n",
      "dropout_20 (Dropout)         (None, 32)                0         \n",
      "_________________________________________________________________\n",
      "dense_33 (Dense)             (None, 64)                2112      \n",
      "_________________________________________________________________\n",
      "dense_34 (Dense)             (None, 128)               8320      \n",
      "_________________________________________________________________\n",
      "dense_35 (Dense)             (None, 64)                8256      \n",
      "_________________________________________________________________\n",
      "dense_36 (Dense)             (None, 32)                2080      \n",
      "_________________________________________________________________\n",
      "dense_37 (Dense)             (None, 1)                 33        \n",
      "=================================================================\n",
      "Total params: 3,967,361\n",
      "Trainable params: 3,967,297\n",
      "Non-trainable params: 64\n",
      "_________________________________________________________________\n"
     ]
    }
   ],
   "source": [
    "model.summary()"
   ]
  },
  {
   "cell_type": "code",
   "execution_count": 71,
   "metadata": {
    "execution": {
     "iopub.execute_input": "2022-11-03T09:09:45.215251Z",
     "iopub.status.busy": "2022-11-03T09:09:45.214891Z",
     "iopub.status.idle": "2022-11-03T09:09:45.225451Z",
     "shell.execute_reply": "2022-11-03T09:09:45.224465Z",
     "shell.execute_reply.started": "2022-11-03T09:09:45.215219Z"
    }
   },
   "outputs": [],
   "source": [
    "model.compile(loss = \"binary_crossentropy\", optimizer = \"adam\", metrics = [\"accuracy\"])        # Adam Optimizer help us to find the largest and the smallest value by using gradient descend "
   ]
  },
  {
   "cell_type": "code",
   "execution_count": 72,
   "metadata": {
    "execution": {
     "iopub.execute_input": "2022-11-03T09:09:47.019890Z",
     "iopub.status.busy": "2022-11-03T09:09:47.019381Z",
     "iopub.status.idle": "2022-11-03T09:33:10.336960Z",
     "shell.execute_reply": "2022-11-03T09:33:10.336050Z",
     "shell.execute_reply.started": "2022-11-03T09:09:47.019850Z"
    }
   },
   "outputs": [
    {
     "name": "stderr",
     "output_type": "stream",
     "text": [
      "/opt/conda/lib/python3.7/site-packages/keras/engine/training.py:1972: UserWarning: `Model.fit_generator` is deprecated and will be removed in a future version. Please use `Model.fit`, which supports generators.\n",
      "  warnings.warn('`Model.fit_generator` is deprecated and '\n"
     ]
    },
    {
     "name": "stdout",
     "output_type": "stream",
     "text": [
      "Epoch 1/20\n",
      "1378/1378 [==============================] - 84s 60ms/step - loss: 0.6228 - accuracy: 0.6540 - val_loss: 0.7153 - val_accuracy: 0.5557\n",
      "Epoch 2/20\n",
      "1378/1378 [==============================] - 68s 49ms/step - loss: 0.3178 - accuracy: 0.8962 - val_loss: 0.2482 - val_accuracy: 0.9216\n",
      "Epoch 3/20\n",
      "1378/1378 [==============================] - 67s 49ms/step - loss: 0.2130 - accuracy: 0.9391 - val_loss: 0.1928 - val_accuracy: 0.9401\n",
      "Epoch 4/20\n",
      "1378/1378 [==============================] - 71s 52ms/step - loss: 0.1793 - accuracy: 0.9471 - val_loss: 0.2170 - val_accuracy: 0.9327\n",
      "Epoch 5/20\n",
      "1378/1378 [==============================] - 74s 54ms/step - loss: 0.1480 - accuracy: 0.9536 - val_loss: 0.2227 - val_accuracy: 0.9348\n",
      "Epoch 6/20\n",
      "1378/1378 [==============================] - 68s 49ms/step - loss: 0.1328 - accuracy: 0.9592 - val_loss: 0.2333 - val_accuracy: 0.9281\n",
      "Epoch 7/20\n",
      "1378/1378 [==============================] - 66s 48ms/step - loss: 0.1197 - accuracy: 0.9620 - val_loss: 0.2318 - val_accuracy: 0.9318\n",
      "Epoch 8/20\n",
      "1378/1378 [==============================] - 66s 48ms/step - loss: 0.1038 - accuracy: 0.9684 - val_loss: 0.2548 - val_accuracy: 0.9292\n",
      "Epoch 9/20\n",
      "1378/1378 [==============================] - 67s 48ms/step - loss: 0.0845 - accuracy: 0.9750 - val_loss: 0.2626 - val_accuracy: 0.9260\n",
      "Epoch 10/20\n",
      "1378/1378 [==============================] - 66s 48ms/step - loss: 0.0841 - accuracy: 0.9756 - val_loss: 0.2595 - val_accuracy: 0.9296\n",
      "Epoch 11/20\n",
      "1378/1378 [==============================] - 66s 48ms/step - loss: 0.0730 - accuracy: 0.9782 - val_loss: 0.2899 - val_accuracy: 0.9265\n",
      "Epoch 12/20\n",
      "1378/1378 [==============================] - 68s 49ms/step - loss: 0.0723 - accuracy: 0.9788 - val_loss: 0.3111 - val_accuracy: 0.9154\n",
      "Epoch 13/20\n",
      "1378/1378 [==============================] - 69s 50ms/step - loss: 0.0627 - accuracy: 0.9809 - val_loss: 0.3634 - val_accuracy: 0.9218\n",
      "Epoch 14/20\n",
      "1378/1378 [==============================] - 67s 49ms/step - loss: 0.0557 - accuracy: 0.9837 - val_loss: 0.3362 - val_accuracy: 0.9143\n",
      "Epoch 15/20\n",
      "1378/1378 [==============================] - 66s 48ms/step - loss: 0.0621 - accuracy: 0.9806 - val_loss: 0.3610 - val_accuracy: 0.9194\n",
      "Epoch 16/20\n",
      "1378/1378 [==============================] - 67s 48ms/step - loss: 0.0542 - accuracy: 0.9838 - val_loss: 0.4319 - val_accuracy: 0.9229\n",
      "Epoch 17/20\n",
      "1378/1378 [==============================] - 72s 52ms/step - loss: 0.0542 - accuracy: 0.9853 - val_loss: 0.3827 - val_accuracy: 0.9167\n",
      "Epoch 18/20\n",
      "1378/1378 [==============================] - 68s 49ms/step - loss: 0.0546 - accuracy: 0.9839 - val_loss: 0.3532 - val_accuracy: 0.9327\n",
      "Epoch 19/20\n",
      "1378/1378 [==============================] - 69s 50ms/step - loss: 0.0480 - accuracy: 0.9855 - val_loss: 0.5145 - val_accuracy: 0.9022\n",
      "Epoch 20/20\n",
      "1378/1378 [==============================] - 66s 48ms/step - loss: 0.0445 - accuracy: 0.9867 - val_loss: 0.4249 - val_accuracy: 0.9205\n"
     ]
    }
   ],
   "source": [
    "history = model.fit_generator(generator = trainData, steps_per_epoch= len(trainData), epochs = 20, verbose= 1, validation_data = validData, validation_steps = len(validData))"
   ]
  },
  {
   "cell_type": "markdown",
   "metadata": {},
   "source": [
    "### Model Summary"
   ]
  },
  {
   "cell_type": "code",
   "execution_count": 73,
   "metadata": {
    "execution": {
     "iopub.execute_input": "2022-11-03T09:34:56.177322Z",
     "iopub.status.busy": "2022-11-03T09:34:56.176944Z",
     "iopub.status.idle": "2022-11-03T09:34:56.183690Z",
     "shell.execute_reply": "2022-11-03T09:34:56.182611Z",
     "shell.execute_reply.started": "2022-11-03T09:34:56.177288Z"
    }
   },
   "outputs": [],
   "source": [
    "summary = pd.DataFrame(model.history.history)"
   ]
  },
  {
   "cell_type": "code",
   "execution_count": 74,
   "metadata": {
    "execution": {
     "iopub.execute_input": "2022-11-03T09:34:56.614243Z",
     "iopub.status.busy": "2022-11-03T09:34:56.613829Z",
     "iopub.status.idle": "2022-11-03T09:34:56.631856Z",
     "shell.execute_reply": "2022-11-03T09:34:56.630501Z",
     "shell.execute_reply.started": "2022-11-03T09:34:56.614208Z"
    }
   },
   "outputs": [
    {
     "data": {
      "text/html": [
       "<div>\n",
       "<style scoped>\n",
       "    .dataframe tbody tr th:only-of-type {\n",
       "        vertical-align: middle;\n",
       "    }\n",
       "\n",
       "    .dataframe tbody tr th {\n",
       "        vertical-align: top;\n",
       "    }\n",
       "\n",
       "    .dataframe thead th {\n",
       "        text-align: right;\n",
       "    }\n",
       "</style>\n",
       "<table border=\"1\" class=\"dataframe\">\n",
       "  <thead>\n",
       "    <tr style=\"text-align: right;\">\n",
       "      <th></th>\n",
       "      <th>loss</th>\n",
       "      <th>accuracy</th>\n",
       "      <th>val_loss</th>\n",
       "      <th>val_accuracy</th>\n",
       "    </tr>\n",
       "  </thead>\n",
       "  <tbody>\n",
       "    <tr>\n",
       "      <th>0</th>\n",
       "      <td>0.622787</td>\n",
       "      <td>0.654028</td>\n",
       "      <td>0.715272</td>\n",
       "      <td>0.555717</td>\n",
       "    </tr>\n",
       "    <tr>\n",
       "      <th>1</th>\n",
       "      <td>0.317776</td>\n",
       "      <td>0.896181</td>\n",
       "      <td>0.248162</td>\n",
       "      <td>0.921597</td>\n",
       "    </tr>\n",
       "    <tr>\n",
       "      <th>2</th>\n",
       "      <td>0.212966</td>\n",
       "      <td>0.939133</td>\n",
       "      <td>0.192760</td>\n",
       "      <td>0.940109</td>\n",
       "    </tr>\n",
       "    <tr>\n",
       "      <th>3</th>\n",
       "      <td>0.179294</td>\n",
       "      <td>0.947070</td>\n",
       "      <td>0.216965</td>\n",
       "      <td>0.932668</td>\n",
       "    </tr>\n",
       "    <tr>\n",
       "      <th>4</th>\n",
       "      <td>0.148033</td>\n",
       "      <td>0.953601</td>\n",
       "      <td>0.222694</td>\n",
       "      <td>0.934846</td>\n",
       "    </tr>\n",
       "    <tr>\n",
       "      <th>5</th>\n",
       "      <td>0.132824</td>\n",
       "      <td>0.959180</td>\n",
       "      <td>0.233293</td>\n",
       "      <td>0.928131</td>\n",
       "    </tr>\n",
       "    <tr>\n",
       "      <th>6</th>\n",
       "      <td>0.119732</td>\n",
       "      <td>0.961992</td>\n",
       "      <td>0.231817</td>\n",
       "      <td>0.931760</td>\n",
       "    </tr>\n",
       "    <tr>\n",
       "      <th>7</th>\n",
       "      <td>0.103786</td>\n",
       "      <td>0.968387</td>\n",
       "      <td>0.254834</td>\n",
       "      <td>0.929220</td>\n",
       "    </tr>\n",
       "    <tr>\n",
       "      <th>8</th>\n",
       "      <td>0.084516</td>\n",
       "      <td>0.975009</td>\n",
       "      <td>0.262580</td>\n",
       "      <td>0.925953</td>\n",
       "    </tr>\n",
       "    <tr>\n",
       "      <th>9</th>\n",
       "      <td>0.084117</td>\n",
       "      <td>0.975553</td>\n",
       "      <td>0.259451</td>\n",
       "      <td>0.929583</td>\n",
       "    </tr>\n",
       "    <tr>\n",
       "      <th>10</th>\n",
       "      <td>0.073042</td>\n",
       "      <td>0.978184</td>\n",
       "      <td>0.289885</td>\n",
       "      <td>0.926497</td>\n",
       "    </tr>\n",
       "    <tr>\n",
       "      <th>11</th>\n",
       "      <td>0.072283</td>\n",
       "      <td>0.978819</td>\n",
       "      <td>0.311123</td>\n",
       "      <td>0.915426</td>\n",
       "    </tr>\n",
       "    <tr>\n",
       "      <th>12</th>\n",
       "      <td>0.062719</td>\n",
       "      <td>0.980860</td>\n",
       "      <td>0.363419</td>\n",
       "      <td>0.921779</td>\n",
       "    </tr>\n",
       "    <tr>\n",
       "      <th>13</th>\n",
       "      <td>0.055682</td>\n",
       "      <td>0.983672</td>\n",
       "      <td>0.336238</td>\n",
       "      <td>0.914338</td>\n",
       "    </tr>\n",
       "    <tr>\n",
       "      <th>14</th>\n",
       "      <td>0.062138</td>\n",
       "      <td>0.980588</td>\n",
       "      <td>0.361005</td>\n",
       "      <td>0.919419</td>\n",
       "    </tr>\n",
       "    <tr>\n",
       "      <th>15</th>\n",
       "      <td>0.054154</td>\n",
       "      <td>0.983763</td>\n",
       "      <td>0.431859</td>\n",
       "      <td>0.922868</td>\n",
       "    </tr>\n",
       "    <tr>\n",
       "      <th>16</th>\n",
       "      <td>0.054209</td>\n",
       "      <td>0.985305</td>\n",
       "      <td>0.382700</td>\n",
       "      <td>0.916697</td>\n",
       "    </tr>\n",
       "    <tr>\n",
       "      <th>17</th>\n",
       "      <td>0.054647</td>\n",
       "      <td>0.983853</td>\n",
       "      <td>0.353222</td>\n",
       "      <td>0.932668</td>\n",
       "    </tr>\n",
       "    <tr>\n",
       "      <th>18</th>\n",
       "      <td>0.048031</td>\n",
       "      <td>0.985486</td>\n",
       "      <td>0.514544</td>\n",
       "      <td>0.902178</td>\n",
       "    </tr>\n",
       "    <tr>\n",
       "      <th>19</th>\n",
       "      <td>0.044508</td>\n",
       "      <td>0.986665</td>\n",
       "      <td>0.424919</td>\n",
       "      <td>0.920508</td>\n",
       "    </tr>\n",
       "  </tbody>\n",
       "</table>\n",
       "</div>"
      ],
      "text/plain": [
       "        loss  accuracy  val_loss  val_accuracy\n",
       "0   0.622787  0.654028  0.715272      0.555717\n",
       "1   0.317776  0.896181  0.248162      0.921597\n",
       "2   0.212966  0.939133  0.192760      0.940109\n",
       "3   0.179294  0.947070  0.216965      0.932668\n",
       "4   0.148033  0.953601  0.222694      0.934846\n",
       "5   0.132824  0.959180  0.233293      0.928131\n",
       "6   0.119732  0.961992  0.231817      0.931760\n",
       "7   0.103786  0.968387  0.254834      0.929220\n",
       "8   0.084516  0.975009  0.262580      0.925953\n",
       "9   0.084117  0.975553  0.259451      0.929583\n",
       "10  0.073042  0.978184  0.289885      0.926497\n",
       "11  0.072283  0.978819  0.311123      0.915426\n",
       "12  0.062719  0.980860  0.363419      0.921779\n",
       "13  0.055682  0.983672  0.336238      0.914338\n",
       "14  0.062138  0.980588  0.361005      0.919419\n",
       "15  0.054154  0.983763  0.431859      0.922868\n",
       "16  0.054209  0.985305  0.382700      0.916697\n",
       "17  0.054647  0.983853  0.353222      0.932668\n",
       "18  0.048031  0.985486  0.514544      0.902178\n",
       "19  0.044508  0.986665  0.424919      0.920508"
      ]
     },
     "execution_count": 74,
     "metadata": {},
     "output_type": "execute_result"
    }
   ],
   "source": [
    "summary"
   ]
  },
  {
   "cell_type": "code",
   "execution_count": 75,
   "metadata": {
    "execution": {
     "iopub.execute_input": "2022-11-03T09:34:59.938552Z",
     "iopub.status.busy": "2022-11-03T09:34:59.938156Z",
     "iopub.status.idle": "2022-11-03T09:34:59.943634Z",
     "shell.execute_reply": "2022-11-03T09:34:59.942483Z",
     "shell.execute_reply.started": "2022-11-03T09:34:59.938519Z"
    }
   },
   "outputs": [],
   "source": [
    "import matplotlib.pyplot as plt"
   ]
  },
  {
   "cell_type": "code",
   "execution_count": 76,
   "metadata": {
    "execution": {
     "iopub.execute_input": "2022-11-03T09:35:00.688266Z",
     "iopub.status.busy": "2022-11-03T09:35:00.687903Z",
     "iopub.status.idle": "2022-11-03T09:35:00.906326Z",
     "shell.execute_reply": "2022-11-03T09:35:00.905338Z",
     "shell.execute_reply.started": "2022-11-03T09:35:00.688233Z"
    }
   },
   "outputs": [
    {
     "data": {
      "image/png": "[encoded data removed]",
      "text/plain": [
       "<Figure size 432x288 with 1 Axes>"
      ]
     },
     "metadata": {
      "needs_background": "light"
     },
     "output_type": "display_data"
    }
   ],
   "source": [
    "%matplotlib inline \n",
    "plt.plot(history.history[\"accuracy\"])\n",
    "plt.plot(history.history[\"val_accuracy\"])\n",
    "plt.title(\"Modelaccuracy\")\n",
    "plt.ylabel(\"Accuracy\")\n",
    "plt.xlabel(\"Epoch\")\n",
    "plt.legend([\"Train\",\"Test\"],loc=\"upper left\")\n",
    "plt.show()"
   ]
  },
  {
   "cell_type": "code",
   "execution_count": 77,
   "metadata": {
    "execution": {
     "iopub.execute_input": "2022-11-03T09:35:01.675389Z",
     "iopub.status.busy": "2022-11-03T09:35:01.675003Z",
     "iopub.status.idle": "2022-11-03T09:35:01.900483Z",
     "shell.execute_reply": "2022-11-03T09:35:01.899371Z",
     "shell.execute_reply.started": "2022-11-03T09:35:01.675357Z"
    }
   },
   "outputs": [
    {
     "data": {
      "image/png": "[encoded data removed]",
      "text/plain": [
       "<Figure size 432x288 with 1 Axes>"
      ]
     },
     "metadata": {
      "needs_background": "light"
     },
     "output_type": "display_data"
    }
   ],
   "source": [
    "plt.plot(history.history[\"loss\"])\n",
    "plt.plot(history.history[\"val_loss\"])\n",
    "plt.title(\"Model loss\")\n",
    "plt.ylabel(\"loss\")\n",
    "plt.xlabel(\"Epoch\")\n",
    "plt.legend([\"Train\",\"Test\"],loc=\"upper left\")\n",
    "plt.show()"
   ]
  },
  {
   "cell_type": "markdown",
   "metadata": {},
   "source": [
    "### Saving Model"
   ]
  },
  {
   "cell_type": "code",
   "execution_count": null,
   "metadata": {},
   "outputs": [],
   "source": [
    "model.save(\"model.h5\")"
   ]
  }
 ],
 "metadata": {
  "kernelspec": {
   "display_name": "Python 3 (ipykernel)",
   "language": "python",
   "name": "python3"
  },
  "language_info": {
   "codemirror_mode": {
    "name": "ipython",
    "version": 3
   },
   "file_extension": ".py",
   "mimetype": "text/x-python",
   "name": "python",
   "nbconvert_exporter": "python",
   "pygments_lexer": "ipython3",
   "version": "3.9.12"
  }
 },
 "nbformat": 4,
 "nbformat_minor": 4
}
